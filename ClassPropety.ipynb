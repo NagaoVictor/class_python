{
 "cells": [
  {
   "cell_type": "code",
   "execution_count": 133,
   "id": "7dfaf8b9",
   "metadata": {},
   "outputs": [],
   "source": [
    "class Prototype:\n",
    "    def __new__(cls, *element): # When create a instance\n",
    "        print(\"Chamando __new__\")\n",
    "        instance = super().__new__(cls)\n",
    "        return instance\n",
    "    \n",
    "    def __init__(self, element): # Initialition\n",
    "        self.__element = element\n",
    "        self.register = []\n",
    "    \n",
    "    def __repr__(self): # Call the object\n",
    "        return f'__repr__ message, {self.__element}'\n",
    "     \n",
    "    def __str__(self): # Return a string\n",
    "        return f'__str__ message, {self.__element}'\n",
    "    \n",
    "    def getElement(self): # Return element\n",
    "        return self.__element\n",
    "    \n",
    "    def increaseElement(self, increase=0): # Increase\n",
    "        self.__element = self.__element + increase \n",
    "        return self.__element\n",
    "    \n",
    "    def decreaseElement(self, decrease=0): # Decrease\n",
    "        self.__element = self.__element - decrease\n",
    "        return self.__element\n",
    "    \n",
    "    def changeElement(self, element): # Change the element\n",
    "        self.__element = element\n",
    "        return self.__element\n",
    "    \n",
    "    def writeElement(self): # Put the element in a list\n",
    "        self.register.append(self.__element)\n",
    "        return self.register\n",
    "    \n",
    "    def popElement(self, position): # Pop element by the index\n",
    "        try:\n",
    "            self.register.pop(position)\n",
    "            return self.register\n",
    "        except Exception as e:\n",
    "            return e\n",
    "        \n",
    "    \n",
    "    def seeElement(self): # See the list element\n",
    "        return self.register\n",
    "    "
   ]
  },
  {
   "cell_type": "code",
   "execution_count": 134,
   "id": "209fd8b6",
   "metadata": {},
   "outputs": [
    {
     "name": "stdout",
     "output_type": "stream",
     "text": [
      "Chamando __new__\n"
     ]
    }
   ],
   "source": [
    "p = Prototype(10)"
   ]
  },
  {
   "cell_type": "code",
   "execution_count": 135,
   "id": "abf99031",
   "metadata": {},
   "outputs": [
    {
     "data": {
      "text/plain": [
       "30"
      ]
     },
     "execution_count": 135,
     "metadata": {},
     "output_type": "execute_result"
    }
   ],
   "source": [
    "p.changeElement(30)"
   ]
  },
  {
   "cell_type": "code",
   "execution_count": 136,
   "id": "3fa2cbdb",
   "metadata": {},
   "outputs": [
    {
     "data": {
      "text/plain": [
       "330"
      ]
     },
     "execution_count": 136,
     "metadata": {},
     "output_type": "execute_result"
    }
   ],
   "source": [
    "p.increaseElement(300)"
   ]
  },
  {
   "cell_type": "code",
   "execution_count": 137,
   "id": "306cbeb5",
   "metadata": {},
   "outputs": [
    {
     "data": {
      "text/plain": [
       "-270"
      ]
     },
     "execution_count": 137,
     "metadata": {},
     "output_type": "execute_result"
    }
   ],
   "source": [
    "p.decreaseElement(600)"
   ]
  },
  {
   "cell_type": "code",
   "execution_count": 138,
   "id": "f5e9a791",
   "metadata": {},
   "outputs": [
    {
     "data": {
      "text/plain": [
       "[-270]"
      ]
     },
     "execution_count": 138,
     "metadata": {},
     "output_type": "execute_result"
    }
   ],
   "source": [
    "p.writeElement()"
   ]
  },
  {
   "cell_type": "code",
   "execution_count": 139,
   "id": "552996aa",
   "metadata": {},
   "outputs": [
    {
     "data": {
      "text/plain": [
       "[-270]"
      ]
     },
     "execution_count": 139,
     "metadata": {},
     "output_type": "execute_result"
    }
   ],
   "source": [
    "p.seeElement()"
   ]
  },
  {
   "cell_type": "code",
   "execution_count": 140,
   "id": "b14f70d4",
   "metadata": {},
   "outputs": [
    {
     "data": {
      "text/plain": [
       "__repr__ message, -270"
      ]
     },
     "execution_count": 140,
     "metadata": {},
     "output_type": "execute_result"
    }
   ],
   "source": [
    "p"
   ]
  },
  {
   "cell_type": "code",
   "execution_count": 141,
   "id": "a96d9f38",
   "metadata": {},
   "outputs": [
    {
     "name": "stdout",
     "output_type": "stream",
     "text": [
      "__str__ message, -270\n"
     ]
    }
   ],
   "source": [
    "print(p)"
   ]
  },
  {
   "cell_type": "code",
   "execution_count": 142,
   "id": "ceed156d",
   "metadata": {},
   "outputs": [
    {
     "data": {
      "text/plain": [
       "[]"
      ]
     },
     "execution_count": 142,
     "metadata": {},
     "output_type": "execute_result"
    }
   ],
   "source": [
    "p.popElement(0)"
   ]
  },
  {
   "cell_type": "code",
   "execution_count": null,
   "id": "70dc6b46",
   "metadata": {},
   "outputs": [],
   "source": []
  }
 ],
 "metadata": {
  "kernelspec": {
   "display_name": "Python 3 (ipykernel)",
   "language": "python",
   "name": "python3"
  },
  "language_info": {
   "codemirror_mode": {
    "name": "ipython",
    "version": 3
   },
   "file_extension": ".py",
   "mimetype": "text/x-python",
   "name": "python",
   "nbconvert_exporter": "python",
   "pygments_lexer": "ipython3",
   "version": "3.10.7"
  }
 },
 "nbformat": 4,
 "nbformat_minor": 5
}
